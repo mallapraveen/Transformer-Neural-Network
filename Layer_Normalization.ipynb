{
  "cells": [
    {
      "cell_type": "code",
      "execution_count": 1,
      "metadata": {
        "id": "yauMbbQbJ5Jk"
      },
      "outputs": [],
      "source": [
        "import torch\n",
        "from torch import nn"
      ]
    },
    {
      "cell_type": "code",
      "execution_count": 5,
      "metadata": {
        "colab": {
          "base_uri": "https://localhost:8080/"
        },
        "id": "TL65EVE_J7KO",
        "outputId": "0d0ecb69-bc6b-4c26-91ea-15647d304287"
      },
      "outputs": [
        {
          "name": "stdout",
          "output_type": "stream",
          "text": [
            "torch.Size([1, 2, 3])\n"
          ]
        },
        {
          "data": {
            "text/plain": [
              "torch.Size([2, 1, 3])"
            ]
          },
          "execution_count": 5,
          "metadata": {},
          "output_type": "execute_result"
        }
      ],
      "source": [
        "inputs = torch.Tensor([[[0.2, 0.1, 0.3], [0.5, 0.1, 0.1]]])\n",
        "B, S, E = inputs.size()\n",
        "print(inputs.size())\n",
        "inputs = inputs.reshape(S, B, E)\n",
        "inputs.size()"
      ]
    },
    {
      "cell_type": "code",
      "execution_count": 8,
      "metadata": {
        "id": "--zvWWq2KLl1"
      },
      "outputs": [],
      "source": [
        "parameter_shape = inputs.size()[-2:]\n",
        "gamma = nn.Parameter(torch.ones(parameter_shape))\n",
        "beta =  nn.Parameter(torch.zeros(parameter_shape))"
      ]
    },
    {
      "cell_type": "code",
      "execution_count": 9,
      "metadata": {
        "colab": {
          "base_uri": "https://localhost:8080/"
        },
        "id": "YAhmuOruKYzO",
        "outputId": "755d29b3-cfcf-42d0-ccce-6ffb09efd696"
      },
      "outputs": [
        {
          "data": {
            "text/plain": [
              "(torch.Size([1, 3]), torch.Size([1, 3]))"
            ]
          },
          "execution_count": 9,
          "metadata": {},
          "output_type": "execute_result"
        }
      ],
      "source": [
        "gamma.size(), beta.size()"
      ]
    },
    {
      "cell_type": "code",
      "execution_count": 10,
      "metadata": {
        "id": "85ajY22cJ5Bg"
      },
      "outputs": [],
      "source": [
        "dims = [-(i + 1) for i in range(len(parameter_shape))]"
      ]
    },
    {
      "cell_type": "code",
      "execution_count": 11,
      "metadata": {
        "colab": {
          "base_uri": "https://localhost:8080/"
        },
        "id": "APG-ccQ1J4zc",
        "outputId": "5c2ad65e-9740-42b5-bfd2-dfa7ed3fc24a"
      },
      "outputs": [
        {
          "data": {
            "text/plain": [
              "[-1, -2]"
            ]
          },
          "execution_count": 11,
          "metadata": {},
          "output_type": "execute_result"
        }
      ],
      "source": [
        "dims"
      ]
    },
    {
      "cell_type": "code",
      "execution_count": 12,
      "metadata": {
        "colab": {
          "base_uri": "https://localhost:8080/"
        },
        "id": "Py8DHV7AMX6y",
        "outputId": "a897c5fc-a53c-497e-faae-c1c6cee49098"
      },
      "outputs": [
        {
          "data": {
            "text/plain": [
              "torch.Size([2, 1, 1])"
            ]
          },
          "execution_count": 12,
          "metadata": {},
          "output_type": "execute_result"
        }
      ],
      "source": [
        "mean = inputs.mean(dim=dims, keepdim=True)\n",
        "mean.size()"
      ]
    },
    {
      "cell_type": "code",
      "execution_count": 13,
      "metadata": {
        "colab": {
          "base_uri": "https://localhost:8080/"
        },
        "id": "P4w9NIUPQRj-",
        "outputId": "97fca7ec-f26b-4429-ff4c-197ac2c5d970"
      },
      "outputs": [
        {
          "data": {
            "text/plain": [
              "tensor([[[0.2000]],\n",
              "\n",
              "        [[0.2333]]])"
            ]
          },
          "execution_count": 13,
          "metadata": {},
          "output_type": "execute_result"
        }
      ],
      "source": [
        "mean"
      ]
    },
    {
      "cell_type": "code",
      "execution_count": 14,
      "metadata": {
        "colab": {
          "base_uri": "https://localhost:8080/"
        },
        "id": "1lEkVVi3M_8_",
        "outputId": "f4e2a32b-d5ed-4622-8923-eb380d5b5bfc"
      },
      "outputs": [
        {
          "data": {
            "text/plain": [
              "tensor([[[0.0817]],\n",
              "\n",
              "        [[0.1886]]])"
            ]
          },
          "execution_count": 14,
          "metadata": {},
          "output_type": "execute_result"
        }
      ],
      "source": [
        "var = ((inputs - mean) ** 2).mean(dim=dims, keepdim=True)\n",
        "epsilon = 1e-5\n",
        "std = (var + epsilon).sqrt()\n",
        "std"
      ]
    },
    {
      "cell_type": "code",
      "execution_count": 15,
      "metadata": {
        "colab": {
          "base_uri": "https://localhost:8080/"
        },
        "id": "rRokYqlDN6yJ",
        "outputId": "f6dcbaf3-ad33-4d9f-e0ec-039e49424e4a"
      },
      "outputs": [
        {
          "data": {
            "text/plain": [
              "tensor([[[ 0.0000, -1.2238,  1.2238]],\n",
              "\n",
              "        [[ 1.4140, -0.7070, -0.7070]]])"
            ]
          },
          "execution_count": 15,
          "metadata": {},
          "output_type": "execute_result"
        }
      ],
      "source": [
        "y = (inputs - mean) / std\n",
        "y"
      ]
    },
    {
      "cell_type": "code",
      "execution_count": 16,
      "metadata": {
        "id": "7cc8NMZVN_sQ"
      },
      "outputs": [],
      "source": [
        "out = gamma * y + beta"
      ]
    },
    {
      "cell_type": "code",
      "execution_count": 17,
      "metadata": {
        "colab": {
          "base_uri": "https://localhost:8080/"
        },
        "id": "YquX9ABbOLKy",
        "outputId": "1bc33d96-e9e5-4a5d-e3cc-4cb9c89cea22"
      },
      "outputs": [
        {
          "data": {
            "text/plain": [
              "tensor([[[ 0.0000, -1.2238,  1.2238]],\n",
              "\n",
              "        [[ 1.4140, -0.7070, -0.7070]]], grad_fn=<AddBackward0>)"
            ]
          },
          "execution_count": 17,
          "metadata": {},
          "output_type": "execute_result"
        }
      ],
      "source": [
        "out"
      ]
    },
    {
      "cell_type": "markdown",
      "metadata": {
        "id": "BO4x-axkv9j8"
      },
      "source": [
        "## Class"
      ]
    },
    {
      "cell_type": "code",
      "execution_count": 18,
      "metadata": {
        "id": "MYJ2AE7Sv-Wc"
      },
      "outputs": [],
      "source": [
        "import torch\n",
        "from torch import nn\n",
        "\n",
        "class LayerNormalization():\n",
        "    def __init__(self, parameters_shape, eps=1e-5):\n",
        "        self.parameters_shape=parameters_shape\n",
        "        self.eps=eps\n",
        "        self.gamma = nn.Parameter(torch.ones(parameters_shape))\n",
        "        self.beta =  nn.Parameter(torch.zeros(parameters_shape))\n",
        "\n",
        "    def forward(self, input):\n",
        "        dims = [-(i + 1) for i in range(len(self.parameters_shape))]\n",
        "        mean = inputs.mean(dim=dims, keepdim=True)\n",
        "        print(f\"Mean \\n ({mean.size()}): \\n {mean}\")\n",
        "        var = ((inputs - mean) ** 2).mean(dim=dims, keepdim=True)\n",
        "        std = (var + self.eps).sqrt()\n",
        "        print(f\"Standard Deviation \\n ({std.size()}): \\n {std}\")\n",
        "        y = (inputs - mean) / std\n",
        "        print(f\"y \\n ({y.size()}) = \\n {y}\")\n",
        "        out = self.gamma * y  + self.beta\n",
        "        print(f\"out \\n ({out.size()}) = \\n {out}\")\n",
        "        return out"
      ]
    },
    {
      "cell_type": "code",
      "execution_count": 19,
      "metadata": {
        "colab": {
          "base_uri": "https://localhost:8080/"
        },
        "id": "zrnZx0HYyoRz",
        "outputId": "7d894aa6-6181-4597-b160-a932fc274d70"
      },
      "outputs": [
        {
          "name": "stdout",
          "output_type": "stream",
          "text": [
            "input \n",
            " (torch.Size([5, 3, 8])) = \n",
            " tensor([[[-0.4023,  1.5926, -0.1526, -0.3596,  0.5150, -1.1845,  1.1122,\n",
            "           0.4230],\n",
            "         [-0.3525, -0.6960, -0.1742, -0.4869,  0.1198, -0.0162, -0.7351,\n",
            "           0.1737],\n",
            "         [-0.1398,  2.0746, -1.2026, -0.6559, -1.9888,  0.6903,  0.4831,\n",
            "           2.1596]],\n",
            "\n",
            "        [[ 0.2647,  0.8568,  0.6843,  0.8339, -1.4749,  1.3304,  0.0936,\n",
            "          -0.8010],\n",
            "         [-0.3198, -0.2293, -1.0938, -0.5439, -0.6727, -1.2386,  2.2249,\n",
            "          -0.0895],\n",
            "         [ 0.0045,  1.3078, -1.8217, -1.3068, -0.3689,  0.6626,  0.3573,\n",
            "           0.1493]],\n",
            "\n",
            "        [[ 0.5129,  1.2459, -1.3325, -1.2644, -0.7750, -2.0900, -0.2529,\n",
            "           1.7253],\n",
            "         [ 1.9686, -0.5160,  0.7849, -0.0605, -0.1311, -2.0453, -0.1969,\n",
            "          -0.5052],\n",
            "         [-0.0689, -0.1974, -1.7485,  0.2388, -0.5273, -0.2787,  0.0732,\n",
            "          -1.2348]],\n",
            "\n",
            "        [[-0.3295, -2.3304,  0.8456,  0.4713, -0.6211, -0.9053,  1.0010,\n",
            "           0.0509],\n",
            "         [-0.4747, -0.9568,  0.5833,  0.2422,  0.2639, -0.3207,  0.7673,\n",
            "           1.0150],\n",
            "         [ 0.9228,  0.8222,  0.2376,  0.8486, -0.9033,  0.1216, -0.0398,\n",
            "           0.2440]],\n",
            "\n",
            "        [[-1.2875,  0.1512,  2.0067, -1.4628, -0.1445,  0.7820,  0.3494,\n",
            "           0.7102],\n",
            "         [-0.6792, -0.1949,  0.3741,  0.9787, -0.5743, -0.1857,  1.2045,\n",
            "           0.0595],\n",
            "         [-0.3384,  0.0626, -0.5906,  1.0805,  0.7099,  0.1198, -0.7027,\n",
            "           0.0413]]])\n"
          ]
        }
      ],
      "source": [
        "batch_size = 3\n",
        "sentence_length = 5\n",
        "embedding_dim = 8 \n",
        "inputs = torch.randn(sentence_length, batch_size, embedding_dim)\n",
        "\n",
        "print(f\"input \\n ({inputs.size()}) = \\n {inputs}\")"
      ]
    },
    {
      "cell_type": "code",
      "execution_count": 20,
      "metadata": {
        "id": "3U3akvkFys68"
      },
      "outputs": [],
      "source": [
        "layer_norm = LayerNormalization(inputs.size()[-1:])"
      ]
    },
    {
      "cell_type": "code",
      "execution_count": 21,
      "metadata": {
        "colab": {
          "base_uri": "https://localhost:8080/"
        },
        "id": "JQ9lt7LUy-g9",
        "outputId": "658ed727-ec37-4eee-fef8-e553cb084e88"
      },
      "outputs": [
        {
          "name": "stdout",
          "output_type": "stream",
          "text": [
            "Mean \n",
            " (torch.Size([5, 3, 1])): \n",
            " tensor([[[ 0.1930],\n",
            "         [-0.2709],\n",
            "         [ 0.1775]],\n",
            "\n",
            "        [[ 0.2235],\n",
            "         [-0.2454],\n",
            "         [-0.1270]],\n",
            "\n",
            "        [[-0.2788],\n",
            "         [-0.0877],\n",
            "         [-0.4680]],\n",
            "\n",
            "        [[-0.2272],\n",
            "         [ 0.1399],\n",
            "         [ 0.2817]],\n",
            "\n",
            "        [[ 0.1381],\n",
            "         [ 0.1228],\n",
            "         [ 0.0478]]])\n",
            "Standard Deviation \n",
            " (torch.Size([5, 3, 1])): \n",
            " tensor([[[0.8394],\n",
            "         [0.3306],\n",
            "         [1.3819]],\n",
            "\n",
            "        [[0.8778],\n",
            "         [1.0069],\n",
            "         [0.9574]],\n",
            "\n",
            "        [[1.2539],\n",
            "         [1.0720],\n",
            "         [0.6415]],\n",
            "\n",
            "        [[1.0170],\n",
            "         [0.6299],\n",
            "         [0.5658]],\n",
            "\n",
            "        [[1.0579],\n",
            "         [0.6418],\n",
            "         [0.5734]]])\n",
            "y \n",
            " (torch.Size([5, 3, 8])) = \n",
            " tensor([[[-0.7092,  1.6674, -0.4117, -0.6582,  0.3836, -1.6410,  1.0951,\n",
            "           0.2740],\n",
            "         [-0.2468, -1.2861,  0.2925, -0.6534,  1.1822,  0.7706, -1.4041,\n",
            "           1.3450],\n",
            "         [-0.2296,  1.3728, -0.9988, -0.6031, -1.5677,  0.3710,  0.2211,\n",
            "           1.4343]],\n",
            "\n",
            "        [[ 0.0470,  0.7215,  0.5250,  0.6954, -1.9348,  1.2611, -0.1480,\n",
            "          -1.1672],\n",
            "         [-0.0740,  0.0160, -0.8427, -0.2965, -0.4245, -0.9864,  2.4534,\n",
            "           0.1548],\n",
            "         [ 0.1373,  1.4987, -1.7701, -1.2323, -0.2526,  0.8247,  0.5058,\n",
            "           0.2885]],\n",
            "\n",
            "        [[ 0.6314,  1.2161, -0.8403, -0.7860, -0.3957, -1.4445,  0.0207,\n",
            "           1.5984],\n",
            "         [ 1.9181, -0.3995,  0.8140,  0.0254, -0.0405, -1.8260, -0.1019,\n",
            "          -0.3894],\n",
            "         [ 0.6221,  0.4217, -1.9962,  1.1018, -0.0925,  0.2950,  0.8435,\n",
            "          -1.1954]],\n",
            "\n",
            "        [[-0.1006, -2.0682,  1.0549,  0.6869, -0.3873, -0.6668,  1.2077,\n",
            "           0.2734],\n",
            "         [-0.9757, -1.7410,  0.7038,  0.1624,  0.1968, -0.7312,  0.9959,\n",
            "           1.3891],\n",
            "         [ 1.1331,  0.9552, -0.0780,  1.0019, -2.0943, -0.2829, -0.5682,\n",
            "          -0.0667]],\n",
            "\n",
            "        [[-1.3475,  0.0124,  1.7663, -1.5133, -0.2671,  0.6087,  0.1997,\n",
            "           0.5408],\n",
            "         [-1.2497, -0.4951,  0.3915,  1.3336, -1.0863, -0.4807,  1.6854,\n",
            "          -0.0987],\n",
            "         [-0.6735,  0.0257, -1.1134,  1.8010,  1.1547,  0.1256, -1.3088,\n",
            "          -0.0114]]])\n",
            "out \n",
            " (torch.Size([5, 3, 8])) = \n",
            " tensor([[[-0.7092,  1.6674, -0.4117, -0.6582,  0.3836, -1.6410,  1.0951,\n",
            "           0.2740],\n",
            "         [-0.2468, -1.2861,  0.2925, -0.6534,  1.1822,  0.7706, -1.4041,\n",
            "           1.3450],\n",
            "         [-0.2296,  1.3728, -0.9988, -0.6031, -1.5677,  0.3710,  0.2211,\n",
            "           1.4343]],\n",
            "\n",
            "        [[ 0.0470,  0.7215,  0.5250,  0.6954, -1.9348,  1.2611, -0.1480,\n",
            "          -1.1672],\n",
            "         [-0.0740,  0.0160, -0.8427, -0.2965, -0.4245, -0.9864,  2.4534,\n",
            "           0.1548],\n",
            "         [ 0.1373,  1.4987, -1.7701, -1.2323, -0.2526,  0.8247,  0.5058,\n",
            "           0.2885]],\n",
            "\n",
            "        [[ 0.6314,  1.2161, -0.8403, -0.7860, -0.3957, -1.4445,  0.0207,\n",
            "           1.5984],\n",
            "         [ 1.9181, -0.3995,  0.8140,  0.0254, -0.0405, -1.8260, -0.1019,\n",
            "          -0.3894],\n",
            "         [ 0.6221,  0.4217, -1.9962,  1.1018, -0.0925,  0.2950,  0.8435,\n",
            "          -1.1954]],\n",
            "\n",
            "        [[-0.1006, -2.0682,  1.0549,  0.6869, -0.3873, -0.6668,  1.2077,\n",
            "           0.2734],\n",
            "         [-0.9757, -1.7410,  0.7038,  0.1624,  0.1968, -0.7312,  0.9959,\n",
            "           1.3891],\n",
            "         [ 1.1331,  0.9552, -0.0780,  1.0019, -2.0943, -0.2829, -0.5682,\n",
            "          -0.0667]],\n",
            "\n",
            "        [[-1.3475,  0.0124,  1.7663, -1.5133, -0.2671,  0.6087,  0.1997,\n",
            "           0.5408],\n",
            "         [-1.2497, -0.4951,  0.3915,  1.3336, -1.0863, -0.4807,  1.6854,\n",
            "          -0.0987],\n",
            "         [-0.6735,  0.0257, -1.1134,  1.8010,  1.1547,  0.1256, -1.3088,\n",
            "          -0.0114]]], grad_fn=<AddBackward0>)\n"
          ]
        }
      ],
      "source": [
        "out = layer_norm.forward(inputs)"
      ]
    },
    {
      "cell_type": "code",
      "execution_count": 22,
      "metadata": {
        "colab": {
          "base_uri": "https://localhost:8080/"
        },
        "id": "TSUGdHwL6yD2",
        "outputId": "e38f4032-4a80-477c-d0d7-ff64fe0b13e9"
      },
      "outputs": [
        {
          "data": {
            "text/plain": [
              "(tensor(1.9868e-08, grad_fn=<MeanBackward0>),\n",
              " tensor(1.0215, grad_fn=<StdBackward0>))"
            ]
          },
          "execution_count": 22,
          "metadata": {},
          "output_type": "execute_result"
        }
      ],
      "source": [
        "out[0].mean(), out[0].std()"
      ]
    }
  ],
  "metadata": {
    "colab": {
      "provenance": []
    },
    "kernelspec": {
      "display_name": "Python 3",
      "name": "python3"
    },
    "language_info": {
      "codemirror_mode": {
        "name": "ipython",
        "version": 3
      },
      "file_extension": ".py",
      "mimetype": "text/x-python",
      "name": "python",
      "nbconvert_exporter": "python",
      "pygments_lexer": "ipython3",
      "version": "3.9.16"
    }
  },
  "nbformat": 4,
  "nbformat_minor": 0
}
