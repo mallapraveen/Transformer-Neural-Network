{
  "cells": [
    {
      "cell_type": "markdown",
      "metadata": {
        "id": "gO5Z0qErNuOt"
      },
      "source": [
        "# Self Attention in Transformers"
      ]
    },
    {
      "cell_type": "markdown",
      "metadata": {
        "id": "HedntyUvLrBo"
      },
      "source": [
        "## Generate Data"
      ]
    },
    {
      "cell_type": "code",
      "execution_count": 1,
      "metadata": {
        "id": "xtKbaWhFJui3"
      },
      "outputs": [],
      "source": [
        "import numpy as np\n",
        "import math\n",
        "\n",
        "L, d_k, d_v = 4, 8, 8\n",
        "q = np.random.randn(L, d_k)\n",
        "k = np.random.randn(L, d_k)\n",
        "v = np.random.randn(L, d_v)"
      ]
    },
    {
      "cell_type": "code",
      "execution_count": 20,
      "metadata": {},
      "outputs": [
        {
          "data": {
            "text/plain": [
              "(4, 8)"
            ]
          },
          "execution_count": 20,
          "metadata": {},
          "output_type": "execute_result"
        }
      ],
      "source": [
        "q.shape"
      ]
    },
    {
      "cell_type": "code",
      "execution_count": 2,
      "metadata": {
        "colab": {
          "base_uri": "https://localhost:8080/"
        },
        "id": "09JpvuNJ2sZC",
        "outputId": "30d2c627-8647-44e0-aa92-c9e53e3b7843"
      },
      "outputs": [
        {
          "name": "stdout",
          "output_type": "stream",
          "text": [
            "Q\n",
            " [[-1.02063382e+00  2.03048424e+00 -1.16038296e-01  1.23542950e+00\n",
            "  -1.86683578e+00 -4.93252452e-01 -7.50532860e-01 -9.71111369e-01]\n",
            " [ 7.56319420e-01  7.01961219e-01 -1.02065331e+00 -1.52032162e-01\n",
            "  -6.89020632e-01  7.08388230e-01  3.95367727e-01  1.77194968e+00]\n",
            " [ 1.39943116e+00 -1.31547632e+00 -3.24576911e+00  8.74456236e-01\n",
            "   1.70940100e+00  6.99874739e-01  3.67117761e-01 -1.05423505e-01]\n",
            " [-1.07093347e+00 -1.22531265e+00  3.85057190e-01  4.51410227e-02\n",
            "   1.17234206e+00  5.09807526e-03  1.53375644e+00  2.53841899e-03]]\n",
            "K\n",
            " [[-0.46739791 -0.58959332  1.18027457 -0.47494861  0.53690126  1.16251636\n",
            "  -0.22781065  0.04919067]\n",
            " [-0.47751967  0.38535486 -0.24983902  0.90406397 -0.67596343 -0.69480326\n",
            "  -0.57761484  0.71547854]\n",
            " [-1.70636866  1.21441076 -0.578801   -0.28385592 -0.19336143  0.11628707\n",
            "   0.89986119  0.38635698]\n",
            " [ 0.78397436 -2.44225155 -0.54793936  0.29862405 -0.09020252 -0.34433245\n",
            "   0.20369221 -0.08662458]]\n",
            "V\n",
            " [[-1.15986259 -1.08271319 -2.52803376 -1.50479629 -0.21416274 -0.39536532\n",
            "   0.11824353  0.77411504]\n",
            " [-0.70394534 -2.17545871  0.19736049  1.2347321   0.16154196 -0.40393984\n",
            "   0.19220876 -0.64953714]\n",
            " [ 0.47402511  0.18535481 -0.76035147  0.15257471 -1.47555551 -0.01630994\n",
            "  -0.37974439  0.58580069]\n",
            " [ 0.87368041  0.77761253  2.31375162 -2.59542703 -0.31557694  0.99231336\n",
            "  -0.71809111 -0.92377212]]\n"
          ]
        }
      ],
      "source": [
        "print(\"Q\\n\", q)\n",
        "print(\"K\\n\", k)\n",
        "print(\"V\\n\", v)"
      ]
    },
    {
      "cell_type": "markdown",
      "metadata": {
        "id": "tV6txskBLwjh"
      },
      "source": [
        "## Self Attention\n",
        "\n",
        "$$\n",
        "\\text{self attention} = softmax\\bigg(\\frac{Q.K^T}{\\sqrt{d_k}}+M\\bigg)\n",
        "$$\n",
        "\n",
        "$$\n",
        "\\text{new V} = \\text{self attention}.V\n",
        "$$ "
      ]
    },
    {
      "cell_type": "code",
      "execution_count": 23,
      "metadata": {
        "colab": {
          "base_uri": "https://localhost:8080/"
        },
        "id": "x7GePHKk3Mh0",
        "outputId": "7dae7f5e-4715-4fd4-fbfd-7c0815e7d39e"
      },
      "outputs": [
        {
          "data": {
            "text/plain": [
              "array([[-2.89635117,  3.75906359,  3.17694268, -5.05711256],\n",
              "       [-1.44914615,  1.03988299,  1.45180749, -0.86230591],\n",
              "       [-2.48213948, -1.50294568, -2.31456117,  6.03818996],\n",
              "       [ 1.94209911, -1.69628715,  1.25874512,  2.16012026]])"
            ]
          },
          "execution_count": 23,
          "metadata": {},
          "output_type": "execute_result"
        }
      ],
      "source": [
        "np.matmul(q, k.T)"
      ]
    },
    {
      "cell_type": "code",
      "execution_count": 24,
      "metadata": {
        "colab": {
          "base_uri": "https://localhost:8080/"
        },
        "id": "odK76OoI3nL2",
        "outputId": "69b50cdb-9a41-45ae-bfd2-619228af1ef7"
      },
      "outputs": [
        {
          "data": {
            "text/plain": [
              "(1.353665160507569, 0.6177191983301971, 7.934026736240158)"
            ]
          },
          "execution_count": 24,
          "metadata": {},
          "output_type": "execute_result"
        }
      ],
      "source": [
        "# Why we need sqrt(d_k) in denominator\n",
        "q.var(), k.var(), np.matmul(q, k.T).var()"
      ]
    },
    {
      "cell_type": "code",
      "execution_count": 25,
      "metadata": {
        "colab": {
          "base_uri": "https://localhost:8080/"
        },
        "id": "0Ps6AY1Q3tRI",
        "outputId": "3b9ac3c8-70b8-47bd-e868-e7d6fd26d270"
      },
      "outputs": [
        {
          "data": {
            "text/plain": [
              "(1.353665160507569, 0.6177191983301971, 0.9917533420300196)"
            ]
          },
          "execution_count": 25,
          "metadata": {},
          "output_type": "execute_result"
        }
      ],
      "source": [
        "scaled = np.matmul(q, k.T) / math.sqrt(d_k)\n",
        "q.var(), k.var(), scaled.var()"
      ]
    },
    {
      "cell_type": "markdown",
      "metadata": {
        "id": "ypO9IK1PL3cJ"
      },
      "source": [
        "Notice the reduction in variance of the product"
      ]
    },
    {
      "cell_type": "code",
      "execution_count": 26,
      "metadata": {
        "colab": {
          "base_uri": "https://localhost:8080/"
        },
        "id": "LVHAJR4N4VQX",
        "outputId": "52b06cf8-0381-453c-b576-0bd8de9a38b5"
      },
      "outputs": [
        {
          "data": {
            "text/plain": [
              "array([[-1.02401478,  1.32902968,  1.12321886, -1.78795929],\n",
              "       [-0.51235054,  0.36765416,  0.51329146, -0.30487118],\n",
              "       [-0.87756883, -0.53137154, -0.81832095,  2.13482254],\n",
              "       [ 0.68663573, -0.59972808,  0.44503361,  0.76371784]])"
            ]
          },
          "execution_count": 26,
          "metadata": {},
          "output_type": "execute_result"
        }
      ],
      "source": [
        "scaled"
      ]
    },
    {
      "cell_type": "markdown",
      "metadata": {
        "id": "Dmz4v-RmMAaj"
      },
      "source": [
        "## Masking\n",
        "\n",
        "- This is to ensure words don't get context from words generated in the future. \n",
        "- Not required in the encoders, but required int he decoders"
      ]
    },
    {
      "cell_type": "code",
      "execution_count": 33,
      "metadata": {
        "colab": {
          "base_uri": "https://localhost:8080/"
        },
        "id": "e8N3OhSLILfG",
        "outputId": "2c63a444-066c-44b2-abe5-242dd989f311"
      },
      "outputs": [
        {
          "data": {
            "text/plain": [
              "array([[1., 0., 0., 0.],\n",
              "       [1., 1., 0., 0.],\n",
              "       [1., 1., 1., 0.],\n",
              "       [1., 1., 1., 1.]])"
            ]
          },
          "execution_count": 33,
          "metadata": {},
          "output_type": "execute_result"
        }
      ],
      "source": [
        "mask = np.tril(np.ones( (L, L) ))\n",
        "mask"
      ]
    },
    {
      "cell_type": "code",
      "execution_count": 34,
      "metadata": {
        "id": "hIV9K3Yn6s1V"
      },
      "outputs": [],
      "source": [
        "mask[mask == 0] = -np.infty\n",
        "mask[mask == 1] = 0"
      ]
    },
    {
      "cell_type": "code",
      "execution_count": 35,
      "metadata": {
        "colab": {
          "base_uri": "https://localhost:8080/"
        },
        "id": "LK5V_T3W6vpX",
        "outputId": "bb4160a1-a011-4850-e403-9cb252572c66"
      },
      "outputs": [
        {
          "data": {
            "text/plain": [
              "array([[  0., -inf, -inf, -inf],\n",
              "       [  0.,   0., -inf, -inf],\n",
              "       [  0.,   0.,   0., -inf],\n",
              "       [  0.,   0.,   0.,   0.]])"
            ]
          },
          "execution_count": 35,
          "metadata": {},
          "output_type": "execute_result"
        }
      ],
      "source": [
        "mask"
      ]
    },
    {
      "cell_type": "code",
      "execution_count": 36,
      "metadata": {
        "colab": {
          "base_uri": "https://localhost:8080/"
        },
        "id": "lNH1VgEf7xTa",
        "outputId": "4211c411-0356-4e39-8388-d39b0c1d0920"
      },
      "outputs": [
        {
          "data": {
            "text/plain": [
              "array([[-1.02401478,        -inf,        -inf,        -inf],\n",
              "       [-0.51235054,  0.36765416,        -inf,        -inf],\n",
              "       [-0.87756883, -0.53137154, -0.81832095,        -inf],\n",
              "       [ 0.68663573, -0.59972808,  0.44503361,  0.76371784]])"
            ]
          },
          "execution_count": 36,
          "metadata": {},
          "output_type": "execute_result"
        }
      ],
      "source": [
        "scaled + mask"
      ]
    },
    {
      "cell_type": "markdown",
      "metadata": {
        "id": "XMTAXjooN9eZ"
      },
      "source": [
        "## Softmax\n",
        "\n",
        "$$\n",
        "\\text{softmax} = \\frac{e^{x_i}}{\\sum_j e^x_j}\n",
        "$$"
      ]
    },
    {
      "cell_type": "code",
      "execution_count": 87,
      "metadata": {
        "id": "2R4gdRqj8W4Y"
      },
      "outputs": [],
      "source": [
        "def softmax(x):\n",
        "  # return np.exp(scaled + mask)/np.expand_dims(np.sum(np.exp(scaled + mask), axis=1), axis=1)\n",
        "  return (np.exp(x).T / np.sum(np.exp(x), axis=-1)).T"
      ]
    },
    {
      "cell_type": "code",
      "execution_count": 88,
      "metadata": {
        "id": "K5eg2zPy41sP"
      },
      "outputs": [],
      "source": [
        "attention = softmax(scaled + mask)"
      ]
    },
    {
      "cell_type": "code",
      "execution_count": 89,
      "metadata": {
        "colab": {
          "base_uri": "https://localhost:8080/"
        },
        "id": "7sauNmfl-1TB",
        "outputId": "46b22beb-9034-4c7c-8d56-04209d2581c4"
      },
      "outputs": [
        {
          "data": {
            "text/plain": [
              "array([[1.        , 0.        , 0.        , 0.        ],\n",
              "       [0.29317681, 0.70682319, 0.        , 0.        ],\n",
              "       [0.287793  , 0.40684763, 0.30535937, 0.        ],\n",
              "       [0.31829162, 0.08793555, 0.24997625, 0.34379658]])"
            ]
          },
          "execution_count": 89,
          "metadata": {},
          "output_type": "execute_result"
        }
      ],
      "source": [
        "attention"
      ]
    },
    {
      "cell_type": "code",
      "execution_count": 94,
      "metadata": {
        "colab": {
          "base_uri": "https://localhost:8080/"
        },
        "id": "BAy37go56LZo",
        "outputId": "78d97fa1-e0b3-4c1d-8294-bf0fdb77f199"
      },
      "outputs": [
        {
          "data": {
            "text/plain": [
              "array([[-1.15986259, -1.08271319, -2.52803376, -1.50479629, -0.21416274,\n",
              "        -0.39536532,  0.11824353,  0.77411504],\n",
              "       [-0.83760971, -1.85509107, -0.60166189,  0.43156591,  0.05139406,\n",
              "        -0.40142599,  0.17052387, -0.23215534],\n",
              "       [-0.47545082, -1.14007767, -0.87943521,  0.11586811, -0.44648627,\n",
              "        -0.28310573, -0.00372917,  0.13740197],\n",
              "       [-0.01221302, -0.22224388, -0.18190689, -1.22454608, -0.53130902,\n",
              "         0.1757147 , -0.28726643,  0.01812349]])"
            ]
          },
          "execution_count": 94,
          "metadata": {},
          "output_type": "execute_result"
        }
      ],
      "source": [
        "new_v = np.matmul(attention, v)\n",
        "new_v"
      ]
    },
    {
      "cell_type": "code",
      "execution_count": null,
      "metadata": {
        "colab": {
          "base_uri": "https://localhost:8080/"
        },
        "id": "vCP2aZOU9VrT",
        "outputId": "e1fe2137-cd95-4a4b-fa1a-3ec21c38104c"
      },
      "outputs": [
        {
          "data": {
            "text/plain": [
              "array([[-0.00368231,  1.43739233, -0.59614565, -1.23171219,  1.12030717,\n",
              "        -0.98620738, -0.15461465, -1.03106383],\n",
              "       [ 0.85585446, -1.79878344,  0.67321704,  0.05607552, -0.15542661,\n",
              "        -1.41264124, -0.40136933, -1.17626611],\n",
              "       [ 0.50465335,  2.28693419,  0.67128338,  0.2506863 ,  1.78802234,\n",
              "         0.14775751, -0.11405725,  0.88026286],\n",
              "       [-0.68069105,  0.68385101,  0.17994557, -1.68013201,  0.91543969,\n",
              "        -0.19108312,  0.03160471,  1.40527326]])"
            ]
          },
          "execution_count": 23,
          "metadata": {},
          "output_type": "execute_result"
        }
      ],
      "source": [
        "v"
      ]
    },
    {
      "cell_type": "code",
      "execution_count": null,
      "metadata": {
        "id": "h_JndWelLDNW"
      },
      "outputs": [],
      "source": []
    },
    {
      "cell_type": "markdown",
      "metadata": {
        "id": "nSiJuBQELFHT"
      },
      "source": [
        "# Function"
      ]
    },
    {
      "cell_type": "code",
      "execution_count": 97,
      "metadata": {
        "id": "XvTnmdcB_jdq"
      },
      "outputs": [],
      "source": [
        "def softmax(x):\n",
        "  # # return np.exp(scaled + mask)/np.expand_dims(np.sum(np.exp(scaled + mask), axis=1), axis=1)\n",
        "  return (np.exp(x).T / np.sum(np.exp(x), axis=-1)).T\n",
        "\n",
        "def scaled_dot_product_attention(q, k, v, mask=None):\n",
        "  d_k = q.shape[-1]\n",
        "  scaled = np.matmul(q, k.T) / math.sqrt(d_k)\n",
        "  if mask is not None:\n",
        "    scaled = scaled + mask\n",
        "  attention = softmax(scaled)\n",
        "  out = np.matmul(attention, v)\n",
        "  return out, attention"
      ]
    },
    {
      "cell_type": "code",
      "execution_count": 98,
      "metadata": {
        "colab": {
          "base_uri": "https://localhost:8080/"
        },
        "id": "KSxLkZdiSLMT",
        "outputId": "ca70508d-fb6e-4eec-acb6-7a89a60dffa8"
      },
      "outputs": [
        {
          "name": "stdout",
          "output_type": "stream",
          "text": [
            "Q\n",
            " [[-1.02063382e+00  2.03048424e+00 -1.16038296e-01  1.23542950e+00\n",
            "  -1.86683578e+00 -4.93252452e-01 -7.50532860e-01 -9.71111369e-01]\n",
            " [ 7.56319420e-01  7.01961219e-01 -1.02065331e+00 -1.52032162e-01\n",
            "  -6.89020632e-01  7.08388230e-01  3.95367727e-01  1.77194968e+00]\n",
            " [ 1.39943116e+00 -1.31547632e+00 -3.24576911e+00  8.74456236e-01\n",
            "   1.70940100e+00  6.99874739e-01  3.67117761e-01 -1.05423505e-01]\n",
            " [-1.07093347e+00 -1.22531265e+00  3.85057190e-01  4.51410227e-02\n",
            "   1.17234206e+00  5.09807526e-03  1.53375644e+00  2.53841899e-03]]\n",
            "K\n",
            " [[-0.46739791 -0.58959332  1.18027457 -0.47494861  0.53690126  1.16251636\n",
            "  -0.22781065  0.04919067]\n",
            " [-0.47751967  0.38535486 -0.24983902  0.90406397 -0.67596343 -0.69480326\n",
            "  -0.57761484  0.71547854]\n",
            " [-1.70636866  1.21441076 -0.578801   -0.28385592 -0.19336143  0.11628707\n",
            "   0.89986119  0.38635698]\n",
            " [ 0.78397436 -2.44225155 -0.54793936  0.29862405 -0.09020252 -0.34433245\n",
            "   0.20369221 -0.08662458]]\n",
            "V\n",
            " [[-1.15986259 -1.08271319 -2.52803376 -1.50479629 -0.21416274 -0.39536532\n",
            "   0.11824353  0.77411504]\n",
            " [-0.70394534 -2.17545871  0.19736049  1.2347321   0.16154196 -0.40393984\n",
            "   0.19220876 -0.64953714]\n",
            " [ 0.47402511  0.18535481 -0.76035147  0.15257471 -1.47555551 -0.01630994\n",
            "  -0.37974439  0.58580069]\n",
            " [ 0.87368041  0.77761253  2.31375162 -2.59542703 -0.31557694  0.99231336\n",
            "  -0.71809111 -0.92377212]]\n",
            "New V\n",
            " [[-1.15986259 -1.08271319 -2.52803376 -1.50479629 -0.21416274 -0.39536532\n",
            "   0.11824353  0.77411504]\n",
            " [-0.83760971 -1.85509107 -0.60166189  0.43156591  0.05139406 -0.40142599\n",
            "   0.17052387 -0.23215534]\n",
            " [-0.47545082 -1.14007767 -0.87943521  0.11586811 -0.44648627 -0.28310573\n",
            "  -0.00372917  0.13740197]\n",
            " [-0.01221302 -0.22224388 -0.18190689 -1.22454608 -0.53130902  0.1757147\n",
            "  -0.28726643  0.01812349]]\n",
            "Attention\n",
            " [[1.         0.         0.         0.        ]\n",
            " [0.29317681 0.70682319 0.         0.        ]\n",
            " [0.287793   0.40684763 0.30535937 0.        ]\n",
            " [0.31829162 0.08793555 0.24997625 0.34379658]]\n"
          ]
        }
      ],
      "source": [
        "values, attention = scaled_dot_product_attention(q, k, v, mask=mask)\n",
        "print(\"Q\\n\", q)\n",
        "print(\"K\\n\", k)\n",
        "print(\"V\\n\", v)\n",
        "print(\"New V\\n\", values)\n",
        "print(\"Attention\\n\", attention)"
      ]
    },
    {
      "cell_type": "code",
      "execution_count": null,
      "metadata": {
        "id": "-HtQQtB2LJus"
      },
      "outputs": [],
      "source": []
    }
  ],
  "metadata": {
    "colab": {
      "provenance": []
    },
    "kernelspec": {
      "display_name": "Python 3",
      "name": "python3"
    },
    "language_info": {
      "codemirror_mode": {
        "name": "ipython",
        "version": 3
      },
      "file_extension": ".py",
      "mimetype": "text/x-python",
      "name": "python",
      "nbconvert_exporter": "python",
      "pygments_lexer": "ipython3",
      "version": "3.9.16"
    }
  },
  "nbformat": 4,
  "nbformat_minor": 0
}
